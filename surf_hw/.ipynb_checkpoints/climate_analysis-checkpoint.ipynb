{
 "cells": [
  {
   "cell_type": "code",
   "execution_count": 21,
   "metadata": {
    "collapsed": true
   },
   "outputs": [],
   "source": [
    "# Python SQL toolkit and Object Relational Mapper\n",
    "import sqlalchemy\n",
    "from sqlalchemy.ext.automap import automap_base\n",
    "from sqlalchemy.orm import Session\n",
    "from sqlalchemy import create_engine, inspect, func, and_\n",
    "import pandas as pd\n",
    "import matplotlib.pyplot as plt"
   ]
  },
  {
   "cell_type": "code",
   "execution_count": 5,
   "metadata": {
    "collapsed": true
   },
   "outputs": [],
   "source": [
    "# Create engine using the `hawaii.sqlite` database file\n",
    "engine = create_engine(\"sqlite:///hawaii.sqlite\")"
   ]
  },
  {
   "cell_type": "code",
   "execution_count": 6,
   "metadata": {
    "collapsed": true
   },
   "outputs": [],
   "source": [
    "# Declare a Base using `automap_base()`\n",
    "Base = automap_base()"
   ]
  },
  {
   "cell_type": "code",
   "execution_count": 7,
   "metadata": {
    "collapsed": false
   },
   "outputs": [],
   "source": [
    "# Use the Base class to reflect the database tables\n",
    "Base.prepare(engine, reflect=True)"
   ]
  },
  {
   "cell_type": "code",
   "execution_count": 8,
   "metadata": {
    "collapsed": false
   },
   "outputs": [
    {
     "data": {
      "text/plain": [
       "['measurement', 'station']"
      ]
     },
     "execution_count": 8,
     "metadata": {},
     "output_type": "execute_result"
    }
   ],
   "source": [
    "# Print all of the classes mapped to the Base\n",
    "Base.classes.keys()"
   ]
  },
  {
   "cell_type": "code",
   "execution_count": 9,
   "metadata": {
    "collapsed": true
   },
   "outputs": [],
   "source": [
    "# Assign the measurement class to a variable called `Measurement'\n",
    "Measurement = Base.classes.measurement"
   ]
  },
  {
   "cell_type": "code",
   "execution_count": 10,
   "metadata": {
    "collapsed": true
   },
   "outputs": [],
   "source": [
    "# Assign the station class to a variable called `Station`\n",
    "Station = Base.classes.station"
   ]
  },
  {
   "cell_type": "code",
   "execution_count": 11,
   "metadata": {
    "collapsed": true
   },
   "outputs": [],
   "source": [
    "# Create a session\n",
    "session = Session(engine)"
   ]
  },
  {
   "cell_type": "code",
   "execution_count": 12,
   "metadata": {
    "collapsed": false
   },
   "outputs": [
    {
     "data": {
      "text/plain": [
       "[('2010-01-01', 0.08),\n",
       " ('2010-01-02', 0.0),\n",
       " ('2010-01-03', 0.0),\n",
       " ('2010-01-04', 0.0),\n",
       " ('2010-01-07', 0.06)]"
      ]
     },
     "execution_count": 12,
     "metadata": {},
     "output_type": "execute_result"
    }
   ],
   "source": [
    "# Use the session to query Measurement table and display the first 5 locations\n",
    "Measurement_query = session.query(Measurement.date,Measurement.prcp).limit(5).all()\n",
    "Measurement_query"
   ]
  },
  {
   "cell_type": "code",
   "execution_count": 13,
   "metadata": {
    "collapsed": false,
    "scrolled": true
   },
   "outputs": [
    {
     "data": {
      "text/plain": [
       "[('WAIKIKI 717.2, HI US', -157.8168, 21.2716),\n",
       " ('KANEOHE 838.1, HI US', -157.8015, 21.4234),\n",
       " ('KUALOA RANCH HEADQUARTERS 886.9, HI US', -157.8374, 21.5213),\n",
       " ('PEARL CITY, HI US', -157.9751, 21.3934),\n",
       " ('UPPER WAHIAWA 874.3, HI US', -158.0111, 21.4992)]"
      ]
     },
     "execution_count": 13,
     "metadata": {},
     "output_type": "execute_result"
    }
   ],
   "source": [
    "# Use the session to query Measurement table and display the first 5 locations\n",
    "Station_query = session.query(Station.name,Station.longitude, Station.latitude).limit(5).all()\n",
    "Station_query "
   ]
  },
  {
   "cell_type": "code",
   "execution_count": 14,
   "metadata": {
    "collapsed": true
   },
   "outputs": [],
   "source": [
    "#Precipitatioin Analysis"
   ]
  },
  {
   "cell_type": "code",
   "execution_count": 53,
   "metadata": {
    "collapsed": false
   },
   "outputs": [
    {
     "data": {
      "text/plain": [
       "[('2015-01-01', 0.0),\n",
       " ('2015-01-02', 0.0),\n",
       " ('2015-01-03', 0.68),\n",
       " ('2015-01-04', 0.04),\n",
       " ('2015-01-05', 0.0),\n",
       " ('2015-01-06', 0.06),\n",
       " ('2015-01-07', 0.0),\n",
       " ('2015-01-08', 0.0),\n",
       " ('2015-01-09', 0.0),\n",
       " ('2015-01-12', 0.0),\n",
       " ('2015-01-13', 0.0),\n",
       " ('2015-01-14', 0.0),\n",
       " ('2015-01-15', 0.0),\n",
       " ('2015-01-16', 0.0),\n",
       " ('2015-01-17', 0.02),\n",
       " ('2015-01-20', 0.0),\n",
       " ('2015-01-21', 0.0),\n",
       " ('2015-01-22', 0.0),\n",
       " ('2015-01-23', 0.0),\n",
       " ('2015-01-24', 0.39),\n",
       " ('2015-01-30', 0.01),\n",
       " ('2015-01-31', 0.0),\n",
       " ('2015-02-03', 0.05),\n",
       " ('2015-02-04', 0.17),\n",
       " ('2015-02-05', 0.02),\n",
       " ('2015-02-06', 0.0),\n",
       " ('2015-02-10', 0.02),\n",
       " ('2015-02-11', 0.0),\n",
       " ('2015-02-12', 0.0),\n",
       " ('2015-02-13', 0.0),\n",
       " ('2015-02-14', 0.9),\n",
       " ('2015-02-18', 0.0),\n",
       " ('2015-02-19', 0.0),\n",
       " ('2015-02-20', 0.26),\n",
       " ('2015-02-21', 0.1),\n",
       " ('2015-02-22', 0.0),\n",
       " ('2015-02-23', 0.0),\n",
       " ('2015-02-24', 0.0),\n",
       " ('2015-02-25', 0.0),\n",
       " ('2015-02-26', 0.41),\n",
       " ('2015-03-02', 0.04),\n",
       " ('2015-03-03', 0.0),\n",
       " ('2015-03-04', 0.02),\n",
       " ('2015-03-05', 0.42),\n",
       " ('2015-03-06', 0.09),\n",
       " ('2015-03-07', 0.0),\n",
       " ('2015-03-12', 0.01),\n",
       " ('2015-03-13', 0.13),\n",
       " ('2015-03-17', 0.0),\n",
       " ('2015-03-18', 0.0),\n",
       " ('2015-03-19', 0.0),\n",
       " ('2015-03-20', 0.02),\n",
       " ('2015-03-23', 0.0),\n",
       " ('2015-03-24', 0.13),\n",
       " ('2015-03-25', 0.08),\n",
       " ('2015-03-26', 0.05),\n",
       " ('2015-03-30', 0.14),\n",
       " ('2015-03-31', 0.35),\n",
       " ('2015-04-01', 0.03),\n",
       " ('2015-04-02', 0.0),\n",
       " ('2015-04-03', 0.0),\n",
       " ('2015-04-06', 0.06),\n",
       " ('2015-04-07', 0.0),\n",
       " ('2015-04-08', 0.08),\n",
       " ('2015-04-09', 0.14),\n",
       " ('2015-04-10', 0.0),\n",
       " ('2015-04-11', 0.0),\n",
       " ('2015-04-12', 0.01),\n",
       " ('2015-04-13', 0.08),\n",
       " ('2015-04-14', 0.09),\n",
       " ('2015-04-15', 0.21),\n",
       " ('2015-04-16', 0.02),\n",
       " ('2015-04-17', 0.06),\n",
       " ('2015-04-20', 0.0),\n",
       " ('2015-04-23', 0.0),\n",
       " ('2015-04-24', 0.08),\n",
       " ('2015-04-25', 0.0),\n",
       " ('2015-04-26', 0.0),\n",
       " ('2015-04-27', 0.65),\n",
       " ('2015-04-28', 0.08),\n",
       " ('2015-04-29', 0.03),\n",
       " ('2015-04-30', 0.01),\n",
       " ('2015-05-01', 0.12),\n",
       " ('2015-05-04', 0.0),\n",
       " ('2015-05-05', 0.0),\n",
       " ('2015-05-06', 0.0),\n",
       " ('2015-05-07', 0.0),\n",
       " ('2015-05-08', 0.04),\n",
       " ('2015-05-09', 0.03),\n",
       " ('2015-05-10', 0.06),\n",
       " ('2015-05-11', 0.02),\n",
       " ('2015-05-12', 0.0),\n",
       " ('2015-05-13', 0.0),\n",
       " ('2015-05-14', 0.09),\n",
       " ('2015-05-15', 0.1),\n",
       " ('2015-05-16', 0.16),\n",
       " ('2015-05-17', 0.06),\n",
       " ('2015-05-18', 0.0),\n",
       " ('2015-05-19', 0.0),\n",
       " ('2015-05-20', 0.08),\n",
       " ('2015-05-21', 0.0),\n",
       " ('2015-05-22', 0.0),\n",
       " ('2015-05-23', 1.44),\n",
       " ('2015-05-24', 0.0),\n",
       " ('2015-05-25', 0.0),\n",
       " ('2015-05-26', 0.06),\n",
       " ('2015-05-27', 0.05),\n",
       " ('2015-05-28', 0.64),\n",
       " ('2015-05-29', 0.0),\n",
       " ('2015-05-30', 0.14),\n",
       " ('2015-06-01', 0.05),\n",
       " ('2015-06-03', 0.0),\n",
       " ('2015-06-04', 0.22),\n",
       " ('2015-06-05', 0.0),\n",
       " ('2015-06-06', 0.0),\n",
       " ('2015-06-09', 0.0),\n",
       " ('2015-06-10', 0.0),\n",
       " ('2015-06-11', 0.0),\n",
       " ('2015-06-12', 0.03),\n",
       " ('2015-06-15', 0.0),\n",
       " ('2015-06-16', 0.0),\n",
       " ('2015-06-17', 0.16),\n",
       " ('2015-06-18', 0.04),\n",
       " ('2015-06-19', 0.02),\n",
       " ('2015-06-20', 0.06),\n",
       " ('2015-06-21', 0.0),\n",
       " ('2015-06-22', 0.04),\n",
       " ('2015-06-23', 0.02),\n",
       " ('2015-06-24', 0.01),\n",
       " ('2015-06-25', 0.2),\n",
       " ('2015-06-26', 0.11),\n",
       " ('2015-06-27', 0.09),\n",
       " ('2015-06-28', 0.0),\n",
       " ('2015-06-29', 0.11),\n",
       " ('2015-06-30', 1.1),\n",
       " ('2015-07-01', 0.0),\n",
       " ('2015-07-12', 0.15),\n",
       " ('2015-07-13', 0.06),\n",
       " ('2015-07-14', 0.11),\n",
       " ('2015-07-15', 0.04),\n",
       " ('2015-07-16', 0.21),\n",
       " ('2015-07-17', 1.24),\n",
       " ('2015-07-18', 0.01),\n",
       " ('2015-07-21', 0.0),\n",
       " ('2015-07-22', 0.0),\n",
       " ('2015-07-23', 0.0),\n",
       " ('2015-07-24', 0.03),\n",
       " ('2015-07-25', 0.2),\n",
       " ('2015-07-26', 0.0),\n",
       " ('2015-07-27', 0.0),\n",
       " ('2015-07-28', 0.0),\n",
       " ('2015-07-29', 0.0),\n",
       " ('2015-07-30', 0.01),\n",
       " ('2015-08-12', 0.0),\n",
       " ('2015-08-13', 0.0),\n",
       " ('2015-08-14', 0.09),\n",
       " ('2015-08-15', 0.33),\n",
       " ('2015-08-18', 0.2),\n",
       " ('2015-08-19', 0.2),\n",
       " ('2015-08-20', 0.0),\n",
       " ('2015-08-21', 0.0),\n",
       " ('2015-08-22', 0.0),\n",
       " ('2015-08-23', 0.62),\n",
       " ('2015-08-24', 3.7),\n",
       " ('2015-08-25', 0.13),\n",
       " ('2015-08-26', 0.11),\n",
       " ('2015-08-27', 0.05),\n",
       " ('2015-08-28', 0.0),\n",
       " ('2015-08-29', 0.0),\n",
       " ('2015-09-01', 0.22),\n",
       " ('2015-09-02', 0.0),\n",
       " ('2015-09-03', 0.19),\n",
       " ('2015-09-04', 0.24),\n",
       " ('2015-09-05', 0.0),\n",
       " ('2015-09-08', 0.4),\n",
       " ('2015-09-15', 0.75),\n",
       " ('2015-09-16', 0.04),\n",
       " ('2015-09-17', 0.0),\n",
       " ('2015-09-18', 0.23),\n",
       " ('2015-09-22', 0.07),\n",
       " ('2015-09-23', 0.07),\n",
       " ('2015-09-24', 0.11),\n",
       " ('2015-09-25', 0.08),\n",
       " ('2015-09-26', 0.39),\n",
       " ('2015-09-27', 0.41),\n",
       " ('2015-09-28', 0.3),\n",
       " ('2015-09-29', 0.03),\n",
       " ('2015-09-30', 0.06),\n",
       " ('2015-10-01', 0.05),\n",
       " ('2015-10-02', 0.0),\n",
       " ('2015-10-03', 0.0),\n",
       " ('2015-10-04', 0.08),\n",
       " ('2015-10-07', 0.04),\n",
       " ('2015-10-08', 0.0),\n",
       " ('2015-10-09', 2.15),\n",
       " ('2015-10-10', 0.0),\n",
       " ('2015-10-11', 0.38),\n",
       " ('2015-10-12', 3.85),\n",
       " ('2015-10-13', 1.8),\n",
       " ('2015-10-14', 0.41),\n",
       " ('2015-10-15', 0.31),\n",
       " ('2015-10-16', 0.0),\n",
       " ('2015-10-19', 0.0),\n",
       " ('2015-10-20', 0.32),\n",
       " ('2015-10-21', 0.0),\n",
       " ('2015-10-22', 0.07),\n",
       " ('2015-10-23', 0.0),\n",
       " ('2015-10-24', 0.0),\n",
       " ('2015-10-25', 0.0),\n",
       " ('2015-10-26', 0.02),\n",
       " ('2015-10-27', 0.09),\n",
       " ('2015-10-28', 0.01),\n",
       " ('2015-10-29', 1.05),\n",
       " ('2015-10-30', 0.0),\n",
       " ('2015-10-31', 0.09),\n",
       " ('2015-11-01', 0.05),\n",
       " ('2015-11-02', 0.0),\n",
       " ('2015-11-03', 0.0),\n",
       " ('2015-11-04', 0.0),\n",
       " ('2015-11-05', 0.11),\n",
       " ('2015-11-06', 0.05),\n",
       " ('2015-11-09', 0.2),\n",
       " ('2015-11-10', 0.04),\n",
       " ('2015-11-11', 0.0),\n",
       " ('2015-11-12', 0.02),\n",
       " ('2015-11-13', 0.17),\n",
       " ('2015-11-14', 0.2),\n",
       " ('2015-11-15', 0.02),\n",
       " ('2015-11-16', 0.01),\n",
       " ('2015-11-17', 0.0),\n",
       " ('2015-11-18', 0.31),\n",
       " ('2015-11-19', 0.01),\n",
       " ('2015-11-20', 1.92),\n",
       " ('2015-11-21', 0.58),\n",
       " ('2015-11-22', 0.12),\n",
       " ('2015-11-23', 1.75),\n",
       " ('2015-11-24', 0.08),\n",
       " ('2015-11-25', 0.01),\n",
       " ('2015-11-26', 0.27),\n",
       " ('2015-11-27', 0.66),\n",
       " ('2015-11-28', 0.05),\n",
       " ('2015-12-01', 0.0),\n",
       " ('2015-12-02', 0.0),\n",
       " ('2015-12-03', 0.17),\n",
       " ('2015-12-04', 0.03),\n",
       " ('2015-12-08', 0.05),\n",
       " ('2015-12-09', 0.02),\n",
       " ('2015-12-10', 0.12),\n",
       " ('2015-12-11', 0.03),\n",
       " ('2015-12-12', 0.17),\n",
       " ('2015-12-13', 0.0),\n",
       " ('2015-12-14', 0.05),\n",
       " ('2015-12-15', 0.0),\n",
       " ('2015-12-16', 0.05),\n",
       " ('2015-12-17', 0.13),\n",
       " ('2015-12-18', 0.08),\n",
       " ('2015-12-19', 0.18),\n",
       " ('2015-12-22', 0.13),\n",
       " ('2015-12-23', 0.1),\n",
       " ('2015-12-28', 0.21),\n",
       " ('2015-12-29', 0.01)]"
      ]
     },
     "execution_count": 53,
     "metadata": {},
     "output_type": "execute_result"
    }
   ],
   "source": [
    "# To retrieve the last 12 months of precipitation data\n",
    "station514830 = session.query(Measurement.date, Measurement.prcp).\\\n",
    "filter(and_(Measurement.date.between('2015-01-01','2015-12-31'), Measurement.station == 'USC00514830')).\\\n",
    "order_by(Measurement.station, Measurement.date.asc()).all()\n",
    "station514830"
   ]
  },
  {
   "cell_type": "code",
   "execution_count": 54,
   "metadata": {
    "collapsed": false
   },
   "outputs": [
    {
     "data": {
      "text/html": [
       "<div>\n",
       "<table border=\"1\" class=\"dataframe\">\n",
       "  <thead>\n",
       "    <tr style=\"text-align: right;\">\n",
       "      <th></th>\n",
       "      <th>prcp</th>\n",
       "    </tr>\n",
       "    <tr>\n",
       "      <th>date</th>\n",
       "      <th></th>\n",
       "    </tr>\n",
       "  </thead>\n",
       "  <tbody>\n",
       "    <tr>\n",
       "      <th>2015-01-01</th>\n",
       "      <td>0.00</td>\n",
       "    </tr>\n",
       "    <tr>\n",
       "      <th>2015-01-02</th>\n",
       "      <td>0.00</td>\n",
       "    </tr>\n",
       "    <tr>\n",
       "      <th>2015-01-03</th>\n",
       "      <td>0.68</td>\n",
       "    </tr>\n",
       "    <tr>\n",
       "      <th>2015-01-04</th>\n",
       "      <td>0.04</td>\n",
       "    </tr>\n",
       "    <tr>\n",
       "      <th>2015-01-05</th>\n",
       "      <td>0.00</td>\n",
       "    </tr>\n",
       "  </tbody>\n",
       "</table>\n",
       "</div>"
      ],
      "text/plain": [
       "            prcp\n",
       "date            \n",
       "2015-01-01  0.00\n",
       "2015-01-02  0.00\n",
       "2015-01-03  0.68\n",
       "2015-01-04  0.04\n",
       "2015-01-05  0.00"
      ]
     },
     "execution_count": 54,
     "metadata": {},
     "output_type": "execute_result"
    }
   ],
   "source": [
    "station514830_df = pd.DataFrame(station514830, columns = ['date', 'prcp'])\n",
    "station514830_df.set_index('date', inplace = True)\n",
    "station514830_df.head()"
   ]
  },
  {
   "cell_type": "code",
   "execution_count": null,
   "metadata": {
    "collapsed": true
   },
   "outputs": [],
   "source": []
  },
  {
   "cell_type": "code",
   "execution_count": 55,
   "metadata": {
    "collapsed": false
   },
   "outputs": [
    {
     "data": {
      "image/png": "[encoded data removed]",
      "text/plain": [
       "<matplotlib.figure.Figure at 0x112660400>"
      ]
     },
     "metadata": {},
     "output_type": "display_data"
    }
   ],
   "source": [
    "#plot the dataframe as a horizontal bar chart using pandas plotting\n",
    "ax = station514830_df.plot.bar(title=\"precipitation_graph\")\n",
    "n = 25\n",
    "\n",
    "xticks = ax.xaxis.get_ticklocs()\n",
    "xticklabels = [l.get_text().replace(\"00:00:00\",\"\") for l in ax.xaxis.get_ticklabels()]\n",
    "ax.set_xticks(xticks[::n])\n",
    "ax.set_xticklabels(xticklabels[::n], rotation=45)\n",
    "\n",
    "plt.tight_layout()\n",
    "plt.show()"
   ]
  },
  {
   "cell_type": "code",
   "execution_count": null,
   "metadata": {
    "collapsed": true
   },
   "outputs": [],
   "source": [
    "#Station Analysis"
   ]
  },
  {
   "cell_type": "code",
   "execution_count": 52,
   "metadata": {
    "collapsed": false
   },
   "outputs": [
    {
     "data": {
      "text/plain": [
       "[('USC00519281', 364),\n",
       " ('USC00519397', 360),\n",
       " ('USC00513117', 329),\n",
       " ('USC00516128', 322),\n",
       " ('USC00519523', 322),\n",
       " ('USC00514830', 261),\n",
       " ('USC00511918', 153),\n",
       " ('USC00517948', 54),\n",
       " ('USC00518838', 10)]"
      ]
     },
     "execution_count": 52,
     "metadata": {},
     "output_type": "execute_result"
    }
   ],
   "source": [
    "#Last 12 months temperature observation\n",
    "Station_tobs_count = session.query(Measurement.station, func.count(Measurement.tobs)).\\\n",
    "   filter(Measurement.date.between('2015-01-01','2015-12-31')).\\\n",
    "   group_by(Measurement.station).order_by(func.count(Measurement.tobs).desc()).all()\n",
    "Station_tobs_count"
   ]
  },
  {
   "cell_type": "code",
   "execution_count": 56,
   "metadata": {
    "collapsed": false
   },
   "outputs": [
    {
     "data": {
      "text/plain": [
       "[('2015-01-01', 66.0),\n",
       " ('2015-01-02', 60.0),\n",
       " ('2015-01-03', 67.0),\n",
       " ('2015-01-04', 65.0),\n",
       " ('2015-01-05', 56.0),\n",
       " ('2015-01-06', 64.0),\n",
       " ('2015-01-07', 64.0),\n",
       " ('2015-01-08', 62.0),\n",
       " ('2015-01-09', 64.0),\n",
       " ('2015-01-10', 66.0),\n",
       " ('2015-01-11', 69.0),\n",
       " ('2015-01-12', 60.0),\n",
       " ('2015-01-13', 58.0),\n",
       " ('2015-01-14', 63.0),\n",
       " ('2015-01-15', 65.0),\n",
       " ('2015-01-16', 68.0),\n",
       " ('2015-01-17', 70.0),\n",
       " ('2015-01-18', 67.0),\n",
       " ('2015-01-19', 71.0),\n",
       " ('2015-01-20', 68.0),\n",
       " ('2015-01-21', 62.0),\n",
       " ('2015-01-22', 61.0),\n",
       " ('2015-01-23', 72.0),\n",
       " ('2015-01-24', 66.0),\n",
       " ('2015-01-25', 65.0),\n",
       " ('2015-01-26', 65.0),\n",
       " ('2015-01-27', 65.0),\n",
       " ('2015-01-28', 66.0),\n",
       " ('2015-01-29', 69.0),\n",
       " ('2015-01-30', 63.0),\n",
       " ('2015-01-31', 69.0),\n",
       " ('2015-02-01', 62.0),\n",
       " ('2015-02-02', 67.0),\n",
       " ('2015-02-03', 76.0),\n",
       " ('2015-02-04', 74.0),\n",
       " ('2015-02-05', 66.0),\n",
       " ('2015-02-06', 58.0),\n",
       " ('2015-02-07', 70.0),\n",
       " ('2015-02-08', 66.0),\n",
       " ('2015-02-09', 72.0),\n",
       " ('2015-02-10', 68.0),\n",
       " ('2015-02-11', 64.0),\n",
       " ('2015-02-12', 60.0),\n",
       " ('2015-02-13', 71.0),\n",
       " ('2015-02-14', 73.0),\n",
       " ('2015-02-15', 56.0),\n",
       " ('2015-02-16', 68.0),\n",
       " ('2015-02-17', 63.0),\n",
       " ('2015-02-18', 64.0),\n",
       " ('2015-02-19', 66.0),\n",
       " ('2015-02-20', 69.0),\n",
       " ('2015-02-21', 72.0),\n",
       " ('2015-02-22', 74.0),\n",
       " ('2015-02-23', 77.0),\n",
       " ('2015-02-24', 65.0),\n",
       " ('2015-02-25', 71.0),\n",
       " ('2015-02-26', 69.0),\n",
       " ('2015-02-27', 66.0),\n",
       " ('2015-02-28', 69.0),\n",
       " ('2015-03-01', 71.0),\n",
       " ('2015-03-02', 68.0),\n",
       " ('2015-03-03', 71.0),\n",
       " ('2015-03-04', 67.0),\n",
       " ('2015-03-05', 65.0),\n",
       " ('2015-03-06', 62.0),\n",
       " ('2015-03-07', 67.0),\n",
       " ('2015-03-08', 65.0),\n",
       " ('2015-03-09', 57.0),\n",
       " ('2015-03-10', 57.0),\n",
       " ('2015-03-11', 61.0),\n",
       " ('2015-03-12', 62.0),\n",
       " ('2015-03-13', 56.0),\n",
       " ('2015-03-14', 69.0),\n",
       " ('2015-03-15', 72.0),\n",
       " ('2015-03-16', 63.0),\n",
       " ('2015-03-17', 57.0),\n",
       " ('2015-03-18', 60.0),\n",
       " ('2015-03-19', 62.0),\n",
       " ('2015-03-20', 70.0),\n",
       " ('2015-03-21', 72.0),\n",
       " ('2015-03-22', 73.0),\n",
       " ('2015-03-23', 68.0),\n",
       " ('2015-03-24', 62.0),\n",
       " ('2015-03-25', 63.0),\n",
       " ('2015-03-26', 70.0),\n",
       " ('2015-03-27', 70.0),\n",
       " ('2015-03-28', 74.0),\n",
       " ('2015-03-29', 74.0),\n",
       " ('2015-03-30', 70.0),\n",
       " ('2015-03-31', 70.0),\n",
       " ('2015-04-01', 70.0),\n",
       " ('2015-04-02', 72.0),\n",
       " ('2015-04-03', 74.0),\n",
       " ('2015-04-04', 74.0),\n",
       " ('2015-04-05', 73.0),\n",
       " ('2015-04-06', 70.0),\n",
       " ('2015-04-07', 70.0),\n",
       " ('2015-04-08', 70.0),\n",
       " ('2015-04-09', 71.0),\n",
       " ('2015-04-10', 67.0),\n",
       " ('2015-04-11', 72.0),\n",
       " ('2015-04-12', 69.0),\n",
       " ('2015-04-13', 69.0),\n",
       " ('2015-04-14', 70.0),\n",
       " ('2015-04-15', 71.0),\n",
       " ('2015-04-16', 70.0),\n",
       " ('2015-04-17', 71.0),\n",
       " ('2015-04-18', 74.0),\n",
       " ('2015-04-19', 75.0),\n",
       " ('2015-04-20', 72.0),\n",
       " ('2015-04-21', 72.0),\n",
       " ('2015-04-22', 67.0),\n",
       " ('2015-04-23', 67.0),\n",
       " ('2015-04-24', 69.0),\n",
       " ('2015-04-25', 73.0),\n",
       " ('2015-04-26', 78.0),\n",
       " ('2015-04-27', 69.0),\n",
       " ('2015-04-28', 71.0),\n",
       " ('2015-04-29', 73.0),\n",
       " ('2015-04-30', 72.0),\n",
       " ('2015-05-01', 69.0),\n",
       " ('2015-05-02', 73.0),\n",
       " ('2015-05-03', 76.0),\n",
       " ('2015-05-04', 72.0),\n",
       " ('2015-05-05', 72.0),\n",
       " ('2015-05-06', 72.0),\n",
       " ('2015-05-07', 72.0),\n",
       " ('2015-05-08', 70.0),\n",
       " ('2015-05-09', 73.0),\n",
       " ('2015-05-10', 69.0),\n",
       " ('2015-05-11', 72.0),\n",
       " ('2015-05-12', 72.0),\n",
       " ('2015-05-13', 71.0),\n",
       " ('2015-05-14', 71.0),\n",
       " ('2015-05-15', 66.0),\n",
       " ('2015-05-16', 78.0),\n",
       " ('2015-05-17', 74.0),\n",
       " ('2015-05-18', 70.0),\n",
       " ('2015-05-19', 72.0),\n",
       " ('2015-05-20', 69.0),\n",
       " ('2015-05-21', 65.0),\n",
       " ('2015-05-22', 64.0),\n",
       " ('2015-05-23', 75.0),\n",
       " ('2015-05-24', 69.0),\n",
       " ('2015-05-25', 71.0),\n",
       " ('2015-05-26', 65.0),\n",
       " ('2015-05-27', 65.0),\n",
       " ('2015-05-28', 67.0),\n",
       " ('2015-05-29', 64.0),\n",
       " ('2015-05-30', 72.0),\n",
       " ('2015-05-31', 72.0),\n",
       " ('2015-06-01', 76.0),\n",
       " ('2015-06-02', 68.0),\n",
       " ('2015-06-03', 71.0),\n",
       " ('2015-06-04', 70.0),\n",
       " ('2015-06-05', 68.0),\n",
       " ('2015-06-06', 79.0),\n",
       " ('2015-06-07', 75.0),\n",
       " ('2015-06-08', 71.0),\n",
       " ('2015-06-09', 69.0),\n",
       " ('2015-06-10', 71.0),\n",
       " ('2015-06-11', 72.0),\n",
       " ('2015-06-12', 69.0),\n",
       " ('2015-06-13', 72.0),\n",
       " ('2015-06-14', 75.0),\n",
       " ('2015-06-15', 71.0),\n",
       " ('2015-06-16', 72.0),\n",
       " ('2015-06-17', 70.0),\n",
       " ('2015-06-18', 71.0),\n",
       " ('2015-06-19', 72.0),\n",
       " ('2015-06-20', 75.0),\n",
       " ('2015-06-21', 75.0),\n",
       " ('2015-06-22', 71.0),\n",
       " ('2015-06-23', 73.0),\n",
       " ('2015-06-24', 71.0),\n",
       " ('2015-06-25', 71.0),\n",
       " ('2015-06-26', 74.0),\n",
       " ('2015-06-27', 74.0),\n",
       " ('2015-06-28', 78.0),\n",
       " ('2015-06-29', 72.0),\n",
       " ('2015-06-30', 69.0),\n",
       " ('2015-07-01', 68.0),\n",
       " ('2015-07-02', 68.0),\n",
       " ('2015-07-03', 73.0),\n",
       " ('2015-07-04', 77.0),\n",
       " ('2015-07-05', 78.0),\n",
       " ('2015-07-06', 74.0),\n",
       " ('2015-07-07', 75.0),\n",
       " ('2015-07-08', 75.0),\n",
       " ('2015-07-09', 74.0),\n",
       " ('2015-07-10', 76.0),\n",
       " ('2015-07-11', 77.0),\n",
       " ('2015-07-12', 82.0),\n",
       " ('2015-07-13', 77.0),\n",
       " ('2015-07-14', 73.0),\n",
       " ('2015-07-15', 73.0),\n",
       " ('2015-07-16', 74.0),\n",
       " ('2015-07-17', 75.0),\n",
       " ('2015-07-18', 83.0),\n",
       " ('2015-07-19', 72.0),\n",
       " ('2015-07-20', 71.0),\n",
       " ('2015-07-21', 73.0),\n",
       " ('2015-07-22', 76.0),\n",
       " ('2015-07-23', 74.0),\n",
       " ('2015-07-24', 75.0),\n",
       " ('2015-07-25', 78.0),\n",
       " ('2015-07-26', 72.0),\n",
       " ('2015-07-27', 75.0),\n",
       " ('2015-07-28', 74.0),\n",
       " ('2015-07-29', 77.0),\n",
       " ('2015-07-30', 74.0),\n",
       " ('2015-07-31', 77.0),\n",
       " ('2015-08-01', 78.0),\n",
       " ('2015-08-02', 79.0),\n",
       " ('2015-08-03', 75.0),\n",
       " ('2015-08-04', 69.0),\n",
       " ('2015-08-05', 76.0),\n",
       " ('2015-08-06', 74.0),\n",
       " ('2015-08-07', 73.0),\n",
       " ('2015-08-08', 80.0),\n",
       " ('2015-08-09', 74.0),\n",
       " ('2015-08-10', 75.0),\n",
       " ('2015-08-11', 75.0),\n",
       " ('2015-08-12', 76.0),\n",
       " ('2015-08-13', 76.0),\n",
       " ('2015-08-14', 75.0),\n",
       " ('2015-08-15', 76.0),\n",
       " ('2015-08-16', 74.0),\n",
       " ('2015-08-17', 78.0),\n",
       " ('2015-08-18', 76.0),\n",
       " ('2015-08-19', 74.0),\n",
       " ('2015-08-20', 72.0),\n",
       " ('2015-08-21', 77.0),\n",
       " ('2015-08-22', 80.0),\n",
       " ('2015-08-23', 80.0),\n",
       " ('2015-08-24', 72.0),\n",
       " ('2015-08-25', 79.0),\n",
       " ('2015-08-26', 72.0),\n",
       " ('2015-08-27', 75.0),\n",
       " ('2015-08-28', 77.0),\n",
       " ('2015-08-29', 82.0),\n",
       " ('2015-08-30', 77.0),\n",
       " ('2015-08-31', 76.0),\n",
       " ('2015-09-01', 76.0),\n",
       " ('2015-09-02', 73.0),\n",
       " ('2015-09-03', 74.0),\n",
       " ('2015-09-04', 75.0),\n",
       " ('2015-09-05', 83.0),\n",
       " ('2015-09-06', 76.0),\n",
       " ('2015-09-07', 81.0),\n",
       " ('2015-09-08', 81.0),\n",
       " ('2015-09-09', 84.0),\n",
       " ('2015-09-10', 85.0),\n",
       " ('2015-09-11', 80.0),\n",
       " ('2015-09-12', 79.0),\n",
       " ('2015-09-13', 81.0),\n",
       " ('2015-09-14', 79.0),\n",
       " ('2015-09-15', 76.0),\n",
       " ('2015-09-16', 80.0),\n",
       " ('2015-09-17', 80.0),\n",
       " ('2015-09-18', 80.0),\n",
       " ('2015-09-19', 78.0),\n",
       " ('2015-09-20', 79.0),\n",
       " ('2015-09-21', 80.0),\n",
       " ('2015-09-22', 80.0),\n",
       " ('2015-09-23', 77.0),\n",
       " ('2015-09-24', 77.0),\n",
       " ('2015-09-25', 74.0),\n",
       " ('2015-09-26', 75.0),\n",
       " ('2015-09-27', 74.0),\n",
       " ('2015-09-28', 77.0),\n",
       " ('2015-09-29', 78.0),\n",
       " ('2015-09-30', 80.0),\n",
       " ('2015-10-01', 77.0),\n",
       " ('2015-10-02', 73.0),\n",
       " ('2015-10-03', 76.0),\n",
       " ('2015-10-04', 74.0),\n",
       " ('2015-10-05', 75.0),\n",
       " ('2015-10-06', 75.0),\n",
       " ('2015-10-07', 68.0),\n",
       " ('2015-10-08', 66.0),\n",
       " ('2015-10-09', 73.0),\n",
       " ('2015-10-11', 76.0),\n",
       " ('2015-10-12', 75.0),\n",
       " ('2015-10-13', 73.0),\n",
       " ('2015-10-14', 72.0),\n",
       " ('2015-10-15', 77.0),\n",
       " ('2015-10-16', 71.0),\n",
       " ('2015-10-17', 79.0),\n",
       " ('2015-10-18', 80.0),\n",
       " ('2015-10-19', 73.0),\n",
       " ('2015-10-20', 74.0),\n",
       " ('2015-10-21', 76.0),\n",
       " ('2015-10-22', 73.0),\n",
       " ('2015-10-23', 70.0),\n",
       " ('2015-10-24', 76.0),\n",
       " ('2015-10-25', 80.0),\n",
       " ('2015-10-26', 72.0),\n",
       " ('2015-10-27', 75.0),\n",
       " ('2015-10-28', 76.0),\n",
       " ('2015-10-29', 71.0),\n",
       " ('2015-10-30', 71.0),\n",
       " ('2015-10-31', 78.0),\n",
       " ('2015-11-01', 79.0),\n",
       " ('2015-11-02', 73.0),\n",
       " ('2015-11-03', 75.0),\n",
       " ('2015-11-04', 77.0),\n",
       " ('2015-11-05', 73.0),\n",
       " ('2015-11-06', 73.0),\n",
       " ('2015-11-07', 74.0),\n",
       " ('2015-11-08', 79.0),\n",
       " ('2015-11-09', 72.0),\n",
       " ('2015-11-10', 76.0),\n",
       " ('2015-11-11', 76.0),\n",
       " ('2015-11-12', 72.0),\n",
       " ('2015-11-13', 73.0),\n",
       " ('2015-11-14', 73.0),\n",
       " ('2015-11-15', 77.0),\n",
       " ('2015-11-16', 71.0),\n",
       " ('2015-11-17', 66.0),\n",
       " ('2015-11-18', 67.0),\n",
       " ('2015-11-19', 73.0),\n",
       " ('2015-11-20', 71.0),\n",
       " ('2015-11-21', 72.0),\n",
       " ('2015-11-22', 78.0),\n",
       " ('2015-11-23', 73.0),\n",
       " ('2015-11-24', 70.0),\n",
       " ('2015-11-25', 70.0),\n",
       " ('2015-11-26', 75.0),\n",
       " ('2015-11-27', 74.0),\n",
       " ('2015-11-28', 76.0),\n",
       " ('2015-11-29', 72.0),\n",
       " ('2015-11-30', 75.0),\n",
       " ('2015-12-01', 73.0),\n",
       " ('2015-12-02', 74.0),\n",
       " ('2015-12-03', 75.0),\n",
       " ('2015-12-04', 75.0),\n",
       " ('2015-12-05', 70.0),\n",
       " ('2015-12-06', 72.0),\n",
       " ('2015-12-07', 69.0),\n",
       " ('2015-12-08', 68.0),\n",
       " ('2015-12-09', 74.0),\n",
       " ('2015-12-10', 72.0),\n",
       " ('2015-12-11', 75.0),\n",
       " ('2015-12-12', 79.0),\n",
       " ('2015-12-13', 69.0),\n",
       " ('2015-12-14', 67.0),\n",
       " ('2015-12-15', 73.0),\n",
       " ('2015-12-16', 74.0),\n",
       " ('2015-12-17', 75.0),\n",
       " ('2015-12-18', 72.0),\n",
       " ('2015-12-19', 76.0),\n",
       " ('2015-12-20', 74.0),\n",
       " ('2015-12-21', 75.0),\n",
       " ('2015-12-22', 74.0),\n",
       " ('2015-12-23', 74.0),\n",
       " ('2015-12-24', 76.0),\n",
       " ('2015-12-25', 74.0),\n",
       " ('2015-12-26', 75.0),\n",
       " ('2015-12-27', 75.0),\n",
       " ('2015-12-28', 73.0),\n",
       " ('2015-12-29', 76.0),\n",
       " ('2015-12-30', 74.0),\n",
       " ('2015-12-31', 73.0)]"
      ]
     },
     "execution_count": 56,
     "metadata": {},
     "output_type": "execute_result"
    }
   ],
   "source": [
    "#the station with the highest temp\n",
    "station519281 = session.query(Measurement.date, Measurement.tobs).\\\n",
    "filter(and_(Measurement.date.between('2015-01-01','2015-12-31'), Measurement.station == 'USC00519281')).\\\n",
    "order_by(Measurement.station, Measurement.date.asc()).all()\n",
    "station519281"
   ]
  },
  {
   "cell_type": "code",
   "execution_count": 58,
   "metadata": {
    "collapsed": false
   },
   "outputs": [
    {
     "data": {
      "text/html": [
       "<div>\n",
       "<table border=\"1\" class=\"dataframe\">\n",
       "  <thead>\n",
       "    <tr style=\"text-align: right;\">\n",
       "      <th></th>\n",
       "      <th>tobs</th>\n",
       "    </tr>\n",
       "    <tr>\n",
       "      <th>date</th>\n",
       "      <th></th>\n",
       "    </tr>\n",
       "  </thead>\n",
       "  <tbody>\n",
       "    <tr>\n",
       "      <th>2015-01-01</th>\n",
       "      <td>66.0</td>\n",
       "    </tr>\n",
       "    <tr>\n",
       "      <th>2015-01-02</th>\n",
       "      <td>60.0</td>\n",
       "    </tr>\n",
       "    <tr>\n",
       "      <th>2015-01-03</th>\n",
       "      <td>67.0</td>\n",
       "    </tr>\n",
       "    <tr>\n",
       "      <th>2015-01-04</th>\n",
       "      <td>65.0</td>\n",
       "    </tr>\n",
       "    <tr>\n",
       "      <th>2015-01-05</th>\n",
       "      <td>56.0</td>\n",
       "    </tr>\n",
       "  </tbody>\n",
       "</table>\n",
       "</div>"
      ],
      "text/plain": [
       "            tobs\n",
       "date            \n",
       "2015-01-01  66.0\n",
       "2015-01-02  60.0\n",
       "2015-01-03  67.0\n",
       "2015-01-04  65.0\n",
       "2015-01-05  56.0"
      ]
     },
     "execution_count": 58,
     "metadata": {},
     "output_type": "execute_result"
    }
   ],
   "source": [
    "#creating a dataframe\n",
    "station519281_df = pd.DataFrame(station519281, columns = ['date', 'tobs'])\n",
    "station519281_df.set_index('date', inplace = True)\n",
    "station519281_df.head()"
   ]
  },
  {
   "cell_type": "code",
   "execution_count": 68,
   "metadata": {
    "collapsed": false
   },
   "outputs": [
    {
     "data": {
      "image/png": "[encoded data removed]",
      "text/plain": [
       "<matplotlib.figure.Figure at 0x11193ef28>"
      ]
     },
     "metadata": {},
     "output_type": "display_data"
    }
   ],
   "source": [
    "#plot the dataframe as a horizontal bar chart using pandas plotting\n",
    "ax = station519281_df.plot.hist(title=\"temperature observation_graph\", bins=12)\n",
    "plt.tight_layout()\n",
    "plt.show()"
   ]
  },
  {
   "cell_type": "code",
   "execution_count": 39,
   "metadata": {
    "collapsed": true
   },
   "outputs": [],
   "source": [
    "#Temperature Analysis"
   ]
  },
  {
   "cell_type": "code",
   "execution_count": null,
   "metadata": {
    "collapsed": true
   },
   "outputs": [],
   "source": []
  },
  {
   "cell_type": "code",
   "execution_count": 72,
   "metadata": {
    "collapsed": false
   },
   "outputs": [
    {
     "name": "stdout",
     "output_type": "stream",
     "text": [
      "[(56.0, 69.20224719101124, 77.0, 21.0)]\n"
     ]
    }
   ],
   "source": [
    "# Min, Avg, Max tobs using all weather stations - period 2014-01-15 - 2014-01-28\n",
    "def vacation_temp(start_date, end_date):\n",
    "    tobs_mam = session.query(func.min(Measurement.tobs),func.avg(Measurement.tobs),\\\n",
    "                       func.max(Measurement.tobs),\\\n",
    "                       (func.max(Measurement.tobs) - func.min(Measurement.tobs))).\\\n",
    "         filter(Measurement.date.between(start_date,end_date)).all()\n",
    "    return tobs_mam\n",
    "print(vacation_temp('2015-02-15','2015-02-28'))"
   ]
  },
  {
   "cell_type": "code",
   "execution_count": 79,
   "metadata": {
    "collapsed": false
   },
   "outputs": [
    {
     "data": {
      "text/html": [
       "<div>\n",
       "<table border=\"1\" class=\"dataframe\">\n",
       "  <thead>\n",
       "    <tr style=\"text-align: right;\">\n",
       "      <th></th>\n",
       "      <th>Min</th>\n",
       "      <th>Ave</th>\n",
       "      <th>Max</th>\n",
       "      <th>yerr</th>\n",
       "    </tr>\n",
       "  </thead>\n",
       "  <tbody>\n",
       "    <tr>\n",
       "      <th>0</th>\n",
       "      <td>56.0</td>\n",
       "      <td>69.202247</td>\n",
       "      <td>77.0</td>\n",
       "      <td>21.0</td>\n",
       "    </tr>\n",
       "  </tbody>\n",
       "</table>\n",
       "</div>"
      ],
      "text/plain": [
       "    Min        Ave   Max  yerr\n",
       "0  56.0  69.202247  77.0  21.0"
      ]
     },
     "execution_count": 79,
     "metadata": {},
     "output_type": "execute_result"
    }
   ],
   "source": [
    "#Put the results in a dataframe\n",
    "tobs_mam = pd.DataFrame(vacation_temp('2015-02-15','2015-02-28'), columns = ['Min','Ave','Max','yerr'])\n",
    "tobs_mam"
   ]
  },
  {
   "cell_type": "code",
   "execution_count": 86,
   "metadata": {
    "collapsed": false
   },
   "outputs": [
    {
     "data": {
      "image/png": "[encoded data removed]",
      "text/plain": [
       "<matplotlib.figure.Figure at 0x111ab0be0>"
      ]
     },
     "metadata": {},
     "output_type": "display_data"
    }
   ],
   "source": [
    "#Plot the Trip Average Temperature\n",
    "yerr = tobs_mam['yerr']\n",
    "ax = tobs_mam['Ave'].plot.bar(yerr=yerr,title=\"Trip Ave Temp\")\n",
    "plt.tight_layout()\n",
    "plt.grid()\n",
    "plt.show()"
   ]
  },
  {
   "cell_type": "code",
   "execution_count": null,
   "metadata": {
    "collapsed": true
   },
   "outputs": [],
   "source": []
  },
  {
   "cell_type": "code",
   "execution_count": null,
   "metadata": {
    "collapsed": true
   },
   "outputs": [],
   "source": []
  }
 ],
 "metadata": {
  "kernelspec": {
   "display_name": "Python 3",
   "language": "python",
   "name": "python3"
  },
  "language_info": {
   "codemirror_mode": {
    "name": "ipython",
    "version": 3
   },
   "file_extension": ".py",
   "mimetype": "text/x-python",
   "name": "python",
   "nbconvert_exporter": "python",
   "pygments_lexer": "ipython3",
   "version": "3.6.0"
  }
 },
 "nbformat": 4,
 "nbformat_minor": 2
}
